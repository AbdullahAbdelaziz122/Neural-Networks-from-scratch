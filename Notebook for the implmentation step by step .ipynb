{
 "cells": [
  {
   "cell_type": "markdown",
   "id": "6297b183",
   "metadata": {},
   "source": [
    "# Neural Network from scratch "
   ]
  },
  {
   "cell_type": "markdown",
   "id": "c76d963e",
   "metadata": {},
   "source": [
    "First we need to figure out How neurons works ? \n",
    "It takes input and Multiply with weights then add the bias "
   ]
  },
  {
   "cell_type": "code",
   "execution_count": 3,
   "id": "b706ee8f",
   "metadata": {},
   "outputs": [
    {
     "name": "stdout",
     "output_type": "stream",
     "text": [
      "Output = 11.02\n"
     ]
    }
   ],
   "source": [
    "inputs = [1, 2, 3]\n",
    "weights = [0.12, 0.5, 0.3]\n",
    "bias = 3\n",
    "output = 0;\n",
    "for i in range(len(inputs)):\n",
    "    output += inputs[i] * weights[i] + bias \n",
    "    \n",
    "print(f\"Output = {output}\")"
   ]
  },
  {
   "cell_type": "markdown",
   "id": "7f136d63",
   "metadata": {},
   "source": [
    "This this is the output of a single neuron "
   ]
  },
  {
   "cell_type": "markdown",
   "id": "1566b0b5",
   "metadata": {},
   "source": [
    "Let's Now build a muiltiple neuron with same input but each neuron has differen weight and diffrent bias "
   ]
  },
  {
   "cell_type": "code",
   "execution_count": 27,
   "id": "580f6c72",
   "metadata": {},
   "outputs": [
    {
     "name": "stdout",
     "output_type": "stream",
     "text": [
      "[5.3, 5.01, 4.93]\n"
     ]
    }
   ],
   "source": [
    "input_data = [1, 2, 3, 4]\n",
    "\n",
    "# Neuron 1\n",
    "weight1 = [0.2, 0.3, -0.5, 1]  \n",
    "bias1 = 2\n",
    "\n",
    "# Neuron 2 \n",
    "weight2 = [0.22, 0.13, -0.25, 0.32]\n",
    "bias2 = 4\n",
    "\n",
    "# Neuron 3 \n",
    "weight3 = [0.12, 0.33, -0.15, 0.9]\n",
    "bias3 = 1\n",
    "\n",
    "neurons = [weight1, weight2, weight3]\n",
    "biases = [bias1, bias2, bias3]\n",
    "layer_output = []\n",
    "\n",
    "for i in range(len(neurons)):\n",
    "    neuron_output = 0\n",
    "    for j in range(len(input_data)):\n",
    "        neuron_output += input_data[j] * neurons[i][j]\n",
    "    neuron_output += biases[i]\n",
    "    layer_output.append(neuron_output)\n",
    "\n",
    "print(layer_output)"
   ]
  },
  {
   "cell_type": "markdown",
   "id": "00fc44e0",
   "metadata": {},
   "source": [
    "# Vectorization"
   ]
  },
  {
   "cell_type": "markdown",
   "id": "c9cf2467",
   "metadata": {},
   "source": [
    "Now we will use Vectorization to implement the same as we did here "
   ]
  },
  {
   "cell_type": "code",
   "execution_count": 26,
   "id": "01671b44",
   "metadata": {},
   "outputs": [
    {
     "name": "stdout",
     "output_type": "stream",
     "text": [
      " weights :\n",
      " [[ 0.2   0.3  -0.5   1.  ]\n",
      " [ 0.22  0.13 -0.25  0.32]\n",
      " [ 0.12  0.33 -0.15  0.9 ]]\n",
      "\n",
      " biases : [2 4 1]\n"
     ]
    }
   ],
   "source": [
    "import numpy as np\n",
    "\n",
    "# create numpy array of the weights, biases\n",
    "weights = np.array([weight1, weight2, weight3])\n",
    "biases = np.array([bias1, bias2, bias3])\n",
    "\n",
    "print(f\" weights :\\n {weights}\")\n",
    "\n",
    "print()\n",
    "\n",
    "print(f\" biases : {biases}\")"
   ]
  },
  {
   "cell_type": "markdown",
   "id": "a9a53c0a",
   "metadata": {},
   "source": [
    "We victorized each of weights and biases let's compute the output here "
   ]
  },
  {
   "cell_type": "code",
   "execution_count": 25,
   "id": "ddbed3d3",
   "metadata": {},
   "outputs": [
    {
     "name": "stdout",
     "output_type": "stream",
     "text": [
      "[5.3  5.01 4.93]\n"
     ]
    }
   ],
   "source": [
    "output_vectorized = np.dot(weights, np.array([1, 2, 3, 4])) + biases\n",
    "\n",
    "print(output_vectorized)"
   ]
  },
  {
   "cell_type": "markdown",
   "id": "988cf1aa",
   "metadata": {},
   "source": [
    "# Mini batching the inputs and introduce layers "
   ]
  },
  {
   "cell_type": "markdown",
   "id": "a7cbd11e",
   "metadata": {},
   "source": [
    "We want here to introduce batching inputs so let's create new input list with batches and leave the weights as it's "
   ]
  },
  {
   "cell_type": "code",
   "execution_count": 33,
   "id": "0fa241fa",
   "metadata": {},
   "outputs": [
    {
     "name": "stdout",
     "output_type": "stream",
     "text": [
      "(3, 4) (3, 4)\n"
     ]
    }
   ],
   "source": [
    "inputs = np.array([[1, 2, 3, 2.5],\n",
    "          [2.0, 5.0, -1.0, 2.0],\n",
    "          [-1.5, -0.27, 0.17, 0.87]])\n",
    "\n",
    "\n",
    "print(weights.shape, inputs.shape)"
   ]
  },
  {
   "cell_type": "code",
   "execution_count": 34,
   "id": "f09ac128",
   "metadata": {},
   "outputs": [
    {
     "name": "stdout",
     "output_type": "stream",
     "text": [
      "(4, 3)\n"
     ]
    }
   ],
   "source": [
    "# We need to transpose the weights so we can dot product both matrices \n",
    "\n",
    "weights_T = weights.transpose()\n",
    "print(weights_T.shape)"
   ]
  },
  {
   "cell_type": "code",
   "execution_count": 40,
   "id": "0e4e4f9d",
   "metadata": {},
   "outputs": [
    {
     "name": "stdout",
     "output_type": "stream",
     "text": [
      "output: \n",
      " [[3.8    4.53   3.58  ]\n",
      " [6.4    5.98   4.84  ]\n",
      " [2.404  3.8708 1.4884]]\n"
     ]
    }
   ],
   "source": [
    "# Now let's try dot product \n",
    "output = np.dot(inputs, weights_T) + biases \n",
    "print(f\"output: \\n {output}\")"
   ]
  },
  {
   "cell_type": "markdown",
   "id": "482ebd50",
   "metadata": {},
   "source": [
    "## Let's Now add layers 2 "
   ]
  },
  {
   "cell_type": "code",
   "execution_count": 48,
   "id": "a14afeeb",
   "metadata": {},
   "outputs": [
    {
     "name": "stdout",
     "output_type": "stream",
     "text": [
      "Layer 1 output: \n",
      " [[3.8    4.53   3.58  ]\n",
      " [6.4    5.98   4.84  ]\n",
      " [2.404  3.8708 1.4884]]\n",
      "\n",
      "Layer 2 output: \n",
      " [[ 2.317     -0.83191    7.51679  ]\n",
      " [ 2.858     -1.53506   10.19474  ]\n",
      " [ 4.30428    1.3327324  6.2814104]]\n"
     ]
    }
   ],
   "source": [
    "import numpy as np\n",
    "\n",
    "# layer 1 input\n",
    "inputs = np.array([[1, 2, 3, 2.5],\n",
    "                   [2.0, 5.0, -1.0, 2.0],\n",
    "                   [-1.5, -0.27, 0.17, 0.87]])\n",
    "\n",
    "weights_1 = np.array([\n",
    "    [0.2, 0.3, -0.5, 1.0],\n",
    "    [0.22, 0.13, -0.25, 0.32],\n",
    "    [0.12, 0.33, -0.15, 0.9]\n",
    "])\n",
    "\n",
    "# layer 2 weights\n",
    "weights_2 = np.array([\n",
    "    [0.21, 1.3, -1.5],\n",
    "    [0.25, 0.153, -1.25],\n",
    "    [0.9, 0.333, -0.115]\n",
    "])\n",
    "\n",
    "# layer 1 biases\n",
    "bias_1 = np.array([2, 4, 1])\n",
    "\n",
    "# layer 2 biases\n",
    "bias_2 = np.array([1, 2, 3])\n",
    "\n",
    "layer_1_output = np.dot(inputs, weights_1.T) + bias_1\n",
    "print (f\"Layer 1 output: \\n {layer_1_output}\")\n",
    "layer_2_output = np.dot(layer_1_output, weights_2.T) + bias_2\n",
    "\n",
    "\n",
    "print()\n",
    "print(f\"Layer 2 output: \\n {layer_2_output}\")"
   ]
  },
  {
   "cell_type": "markdown",
   "id": "c3700c16",
   "metadata": {},
   "source": [
    "# Objectify the Layer "
   ]
  },
  {
   "cell_type": "code",
   "execution_count": 49,
   "id": "7737bd3a",
   "metadata": {},
   "outputs": [],
   "source": [
    "class Layer_Dense:\n",
    "    def __init__(self, n_inputs, n_neurons):\n",
    "        self.weights = 0.10 * np.random.rand(n_inputs, n_neurons)\n",
    "        self.biases = np.zeros((1, n_neurons))\n",
    "    \n",
    "    def forward(self, inputs):\n",
    "        self.output = np.dot(inputs, self.weights)    "
   ]
  },
  {
   "cell_type": "code",
   "execution_count": 67,
   "id": "245c48f7",
   "metadata": {},
   "outputs": [
    {
     "name": "stdout",
     "output_type": "stream",
     "text": [
      "[[ 0.0948179   0.09580485  0.11659729  0.11474373]\n",
      " [ 0.10167208  0.10390484  0.12446101  0.12097983]\n",
      " [-0.01175102 -0.01186595 -0.0154539  -0.01433468]]\n"
     ]
    }
   ],
   "source": [
    "# Initializing Layers \n",
    "X = np.array([\n",
    "    [1, 2, 3, 2.5],\n",
    "    [2.0, 5.0, -1.0, 2.0],\n",
    "    [-1.5, -0.27, 0.17, 0.87]\n",
    "])\n",
    "\n",
    "# Setting this to get the same initialized random weights \n",
    "np.random.seed(42)\n",
    "\n",
    "# Layers \n",
    "layer_1 = Layer_Dense(4, 8)\n",
    "layer_2 = Layer_Dense(8, 16)\n",
    "layer_3 = Layer_Dense(16, 4)\n",
    "\n",
    "# Forward propagation\n",
    "layer_1.forward(X)\n",
    "layer_2.forward(layer_1.output)\n",
    "layer_3.forward(layer_2.output)\n",
    "\n",
    "# output Layer\n",
    "print(layer_3.output)"
   ]
  },
  {
   "cell_type": "markdown",
   "id": "9427b1aa",
   "metadata": {},
   "source": [
    "# Activation function"
   ]
  },
  {
   "cell_type": "markdown",
   "id": "70f7f08e",
   "metadata": {},
   "source": [
    "### **Why we use activation functions in feed forward ?**\n",
    "\n",
    "In brief, activation functions are crucial in neural networks because they introduce **non-linearity**. Here's why that's important:\n",
    "\n",
    "* **Linearity Limitation:**\n",
    "    * Without activation functions, a neural network, no matter how many layers it has, would simply be a linear transformation of the input. This means it could only learn linear relationships.\n",
    "    * Real-world data is rarely linear. To learn complex patterns, neural networks need to model non-linear relationships.\n",
    "* **Non-linearity Enables Complex Learning:**\n",
    "    * Activation functions introduce non-linearity, allowing the network to approximate any complex function.\n",
    "    * This enables the network to learn intricate patterns, such as those found in images, speech, and text.\n",
    "* **Breaking the Linear Chain:**\n",
    "    * By adding activation functions, you break the linear chain of matrix multiplications, allowing for much more expressive models.\n",
    "* **Decision making:**\n",
    "    * Activation functions can help with decision making. For example, a sigmoid function outputs a value between 0 and 1, which can be interpreted as a probability.\n"
   ]
  },
  {
   "cell_type": "code",
   "execution_count": 73,
   "id": "4fe366ff",
   "metadata": {},
   "outputs": [],
   "source": [
    "# ReLu Activation function \n",
    "\n",
    "class Activation_ReLu:\n",
    "    def __init__(self):\n",
    "        pass\n",
    "    \n",
    "    def forward(self, inputs):\n",
    "        self.output = np.maximum(0, inputs)"
   ]
  },
  {
   "cell_type": "code",
   "execution_count": 2,
   "id": "c1ae858e",
   "metadata": {},
   "outputs": [
    {
     "name": "stderr",
     "output_type": "stream",
     "text": [
      "Matplotlib is building the font cache; this may take a moment.\n"
     ]
    },
    {
     "data": {
      "image/png": "[encoded data removed]",
      "text/plain": [
       "<Figure size 800x600 with 1 Axes>"
      ]
     },
     "metadata": {},
     "output_type": "display_data"
    }
   ],
   "source": [
    "# Dataset Generation function \n",
    "import numpy as np\n",
    "import matplotlib.pyplot as plt\n",
    "%matplotlib inline\n",
    "\n",
    "def spiral_data(points, classes):\n",
    "    X = np.zeros((points*classes, 2))\n",
    "    y = np.zeros(points*classes, dtype='uint8')\n",
    "    for class_number in range(classes):\n",
    "        ix = range(points*class_number, points*(class_number+1))\n",
    "        r = np.linspace(0.0, 1, points)  # radius\n",
    "        t = np.linspace(class_number*4, (class_number+1)*4, points) + np.random.randn(points)*0.2\n",
    "        X[ix] = np.c_[r*np.sin(t*2.5), r*np.cos(t*2.5)]\n",
    "        y[ix] = class_number\n",
    "    return X, y\n",
    "\n",
    "def plot_spiral_data(X, y):\n",
    "    plt.figure(figsize=(8, 6))\n",
    "    plt.scatter(X[:, 0], X[:, 1], c=y, cmap=\"brg\")\n",
    "    plt.xlabel(\"X Coordinate\")\n",
    "    plt.ylabel(\"Y Coordinate\")\n",
    "    plt.title(\"Spiral Data\")\n",
    "    plt.show()\n",
    "\n",
    "# Example usage\n",
    "points = 100\n",
    "classes = 3\n",
    "X, y = spiral_data(points, classes)\n",
    "plot_spiral_data(X, y)"
   ]
  },
  {
   "cell_type": "code",
   "execution_count": 75,
   "id": "7eadd02f",
   "metadata": {},
   "outputs": [
    {
     "name": "stdout",
     "output_type": "stream",
     "text": [
      "[[ 0.          0.          0.          0.          0.        ]\n",
      " [ 0.00042565  0.0003813   0.00080802  0.00037005  0.00097157]\n",
      " [ 0.00100695  0.00082994  0.00211776  0.00141365  0.0026307 ]\n",
      " ...\n",
      " [-0.02317968 -0.0134124  -0.065042   -0.07505612 -0.08680574]\n",
      " [-0.00686921  0.0006218  -0.03242948 -0.05657018 -0.04691788]\n",
      " [-0.00647407  0.00101523 -0.03179235 -0.05652143 -0.04619794]]\n"
     ]
    }
   ],
   "source": [
    "# Example usage\n",
    "np.random.seed(42)\n",
    "# Data \n",
    "X, y = spiral_data(100, 3)\n",
    "\n",
    "layer_1 = Layer_Dense(2, 5)\n",
    "layer_1.forward(X)\n",
    "\n",
    "print(layer_1.output)"
   ]
  },
  {
   "cell_type": "code",
   "execution_count": 76,
   "id": "93305554",
   "metadata": {},
   "outputs": [
    {
     "name": "stdout",
     "output_type": "stream",
     "text": [
      "[[0.         0.         0.         0.         0.        ]\n",
      " [0.00042565 0.0003813  0.00080802 0.00037005 0.00097157]\n",
      " [0.00100695 0.00082994 0.00211776 0.00141365 0.0026307 ]\n",
      " ...\n",
      " [0.         0.         0.         0.         0.        ]\n",
      " [0.         0.0006218  0.         0.         0.        ]\n",
      " [0.         0.00101523 0.         0.         0.        ]]\n"
     ]
    }
   ],
   "source": [
    "activation = Activation_ReLu()\n",
    "activation.forward(layer_1.output)\n",
    "\n",
    "print(activation.output)"
   ]
  },
  {
   "cell_type": "markdown",
   "id": "ab30a222",
   "metadata": {},
   "source": [
    "We successfully implemented the ReLu activation function "
   ]
  },
  {
   "cell_type": "markdown",
   "id": "a58b735c",
   "metadata": {},
   "source": [
    "# Softmax Activation function "
   ]
  },
  {
   "cell_type": "markdown",
   "id": "64f3b5ea",
   "metadata": {},
   "source": [
    "The softmax function transforms a vector of real numbers into a probability distribution. For an input vector `z`, each output `softmax(z_i)` represents the probability of the i-th class. The formula is:\n",
    "\n",
    "$$\n",
    "\\text{softmax}(z_i) = \\frac{e^{z_i}}{\\sum_{j} e^{z_j}}\n",
    "$$\n",
    "\n",
    "This ensures all outputs are between 0 and 1, and their sum equals 1.\n"
   ]
  },
  {
   "cell_type": "code",
   "execution_count": 100,
   "id": "3f16d4e1",
   "metadata": {},
   "outputs": [],
   "source": [
    "class Activation_Softmax:\n",
    "    def __init__(self):\n",
    "        pass\n",
    "    \n",
    "    def forward(self, inputs):\n",
    "        self.output = softmax(inputs)\n",
    "    \n",
    "    def softmax(inputs):\n",
    "        shifted_x = x - np.max(x, axis=-1, keepdims=True)\n",
    "        exp_x = np.exp(shifted_x)\n",
    "        return exp_x / np.sum(exp_x, axis=-1, keepdims=True)\n",
    "    \n",
    "        "
   ]
  },
  {
   "cell_type": "code",
   "execution_count": 95,
   "id": "dc076910",
   "metadata": {},
   "outputs": [
    {
     "name": "stdout",
     "output_type": "stream",
     "text": [
      "[[0.33333333 0.33333333 0.33333333]\n",
      " [0.33333274 0.33333579 0.33333147]\n",
      " [0.33333398 0.33334163 0.33332439]]\n"
     ]
    }
   ],
   "source": [
    "dense1 = Layer_Dense(2, 3)\n",
    "activation1 = Activation_ReLu()\n",
    "\n",
    "dense2 = Layer_Dense(3, 3)\n",
    "activation2 = Activation_Softmax()\n",
    "\n",
    "dense1.forward(X)\n",
    "activation1.forward(dense1.output)\n",
    "\n",
    "dense2.forward(activation1.output)\n",
    "activation2.forward(dense2.output)\n",
    "\n",
    "print(activation2.output[:3])"
   ]
  },
  {
   "cell_type": "markdown",
   "id": "d3076987",
   "metadata": {},
   "source": [
    "# Calculation Loss with Categorical Cross-Entropy "
   ]
  },
  {
   "cell_type": "markdown",
   "id": "651d9a12",
   "metadata": {},
   "source": [
    "**Categorical Cross-Entropy Loss:**\n",
    "\n",
    "This loss function measures the difference between predicted probability distributions and true one-hot encoded labels, commonly used in multi-class classification. It penalizes incorrect predictions more severely.\n",
    "\n",
    "**Formula:**\n",
    "\n",
    "For a single sample:\n",
    "\n",
    "$$\n",
    "\\text{Loss} = - \\sum_{i=1}^{C} y_i \\log(p_i)\n",
    "$$\n",
    "\n",
    "Where:\n",
    "\n",
    "* $C$ is the number of classes.\n",
    "* $y_i$ is 1 if the sample belongs to class $i$, 0 otherwise (one-hot encoding).\n",
    "* $p_i$ is the predicted probability of the sample belonging to class $i$.\n",
    "\n",
    "For a batch of samples, the loss is typically the average across all samples.\n"
   ]
  },
  {
   "cell_type": "code",
   "execution_count": 97,
   "id": "5f56335d",
   "metadata": {},
   "outputs": [
    {
     "name": "stdout",
     "output_type": "stream",
     "text": [
      "Categorical Cross-Entropy Loss: [0.10536052 0.22314355 0.35667494]\n"
     ]
    }
   ],
   "source": [
    "import numpy as np\n",
    "\n",
    "def categorical_cross_entropy(y_true, y_pred):\n",
    "    \"\"\"\n",
    "    Computes the categorical cross-entropy loss.\n",
    "\n",
    "    Args:\n",
    "        y_true: One-hot encoded true labels (shape: (batch_size, num_classes)).\n",
    "        y_pred: Predicted probabilities (shape: (batch_size, num_classes)).\n",
    "\n",
    "    Returns:\n",
    "        The average categorical cross-entropy loss.\n",
    "    \"\"\"\n",
    "\n",
    "    # Clip predictions to avoid log(0) errors.\n",
    "    y_pred = np.clip(y_pred, 1e-15, 1 - 1e-15)\n",
    "\n",
    "    # Calculate the loss for each sample.\n",
    "    loss = -np.sum(y_true * np.log(y_pred), axis=1)\n",
    "\n",
    "    # Calculate the average loss over the batch.\n",
    "    return np.mean(loss)\n",
    "\n",
    "# Example usage:\n",
    "y_true = np.array([[0, 1, 0],  # True label: class 1\n",
    "                   [1, 0, 0],  # True label: class 0\n",
    "                   [0, 0, 1]]) # True label: class 2\n",
    "\n",
    "y_pred = np.array([[0.05, 0.9, 0.05],  # Predicted probabilities\n",
    "                   [0.8, 0.15, 0.05],\n",
    "                   [0.1, 0.2, 0.7]])\n",
    "\n",
    "loss = categorical_cross_entropy(y_true, y_pred)\n",
    "print(\"Categorical Cross-Entropy Loss:\", loss)\n"
   ]
  },
  {
   "cell_type": "markdown",
   "id": "6cd36fad",
   "metadata": {},
   "source": [
    "## Let's make the Loss class "
   ]
  },
  {
   "cell_type": "code",
   "execution_count": 6,
   "id": "8146442a-ac7f-4c14-ae66-933d2fbc020d",
   "metadata": {},
   "outputs": [],
   "source": [
    "# Data Generation \n",
    "import numpy as np\n",
    "\n",
    "def spiral_data(points, classes):\n",
    "    X = np.zeros((points*classes, 2))\n",
    "    y = np.zeros(points*classes, dtype='uint8')\n",
    "    for class_number in range(classes):\n",
    "        ix = range(points*class_number, points*(class_number+1))\n",
    "        r = np.linspace(0.0, 1, points)  # radius\n",
    "        t = np.linspace(class_number*4, (class_number+1)*4, points) + np.random.randn(points)*0.2\n",
    "        X[ix] = np.c_[r*np.sin(t*2.5), r*np.cos(t*2.5)]\n",
    "        y[ix] = class_number\n",
    "    return X, y"
   ]
  },
  {
   "cell_type": "code",
   "execution_count": 11,
   "id": "0d8e1c6e",
   "metadata": {},
   "outputs": [],
   "source": [
    "class Layer_Dense:\n",
    "    def __init__(self, n_inputs, n_neurons):\n",
    "        self.weights = 0.10 * np.random.rand(n_inputs, n_neurons)\n",
    "        self.biases = np.zeros((1, n_neurons))\n",
    "    \n",
    "    def forward(self, inputs):\n",
    "        self.output = np.dot(inputs, self.weights) + self.biases\n",
    "\n",
    "class Activation_ReLu:\n",
    "    def forward(self, inputs):\n",
    "        self.output = np.maximum(0, inputs)\n",
    "        \n",
    "\n",
    "class Activation_Softmax:\n",
    "    def forward(self, inputs):\n",
    "        exp_values = np.exp(inputs - np.max(inputs, axis=1, keepdims=True))\n",
    "        probabilities =  exp_values / np.sum(exp_values, axis=1, keepdims=True)\n",
    "        self.output = probabilities\n",
    "\n",
    "\n",
    "\n",
    "\n",
    "class Loss:\n",
    "    def calculate(self, output, y):\n",
    "        sample_losses = self.forward(output, y)\n",
    "        data_loss = np.mean(sample_losses)\n",
    "        return data_loss\n",
    "\n",
    "        \n",
    "class Loss_CrossEntropy(Loss):    \n",
    "    \n",
    "    def forward(self, y_pred, y_true):\n",
    "        samples = len(y_pred)\n",
    "        y_pred_clipped = np.clip(y_pred, 1e-7, 1 - 1e-7)\n",
    "        \n",
    "        if len(y_true.shape) == 1: \n",
    "            correct_confidences = y_pred_clipped[range(samples), y_true]\n",
    "        elif len(y_true.shape) == 2:  \n",
    "            correct_confidences = np.sum(y_pred_clipped * y_true, axis=1)\n",
    "        else:\n",
    "            raise ValueError(\"y_true has invalid shape\")\n",
    "\n",
    "        negative_log_likelihoods = -np.log(correct_confidences)\n",
    "        return negative_log_likelihoods\n",
    "        "
   ]
  },
  {
   "cell_type": "markdown",
   "id": "42430dbb-f73d-4674-b2ca-41994714b5dc",
   "metadata": {},
   "source": [
    "Now let's try everything and see what works out and what don't "
   ]
  },
  {
   "cell_type": "code",
   "execution_count": 12,
   "id": "6185a3fa-e38f-49ba-bb96-2aeadceb715a",
   "metadata": {},
   "outputs": [
    {
     "name": "stdout",
     "output_type": "stream",
     "text": [
      "Categorical Cross-Entropy Loss: 1.098595715669956\n"
     ]
    }
   ],
   "source": [
    "import numpy as np\n",
    "# Example Usage \n",
    "# Generate sample categorial data \n",
    "X, y = spiral_data(points= 100, classes=3)\n",
    "\n",
    "\n",
    "dense1 = Layer_Dense(2, 10)\n",
    "relu1 = Activation_ReLu()\n",
    "\n",
    "dense2 = Layer_Dense(10, 10)\n",
    "relu2 = Activation_ReLu()\n",
    "\n",
    "dense3 = Layer_Dense(10, 3)\n",
    "softmax = Activation_Softmax()\n",
    "\n",
    "\n",
    "# Training feedforward \n",
    "dense1.forward(X)\n",
    "relu1.forward(dense1.output)\n",
    "\n",
    "\n",
    "dense2.forward(relu1.output)\n",
    "relu2.forward(dense2.output)\n",
    "\n",
    "dense3.forward(relu2.output)\n",
    "softmax.forward(dense3.output)\n",
    "\n",
    "\n",
    "output = softmax.output\n",
    "\n",
    "loss = Loss_CrossEntropy()\n",
    "loss_value = loss.calculate(output, y)\n",
    "\n",
    "print(\"Categorical Cross-Entropy Loss:\", loss_value)"
   ]
  },
  {
   "cell_type": "markdown",
   "id": "8758402f-f1b8-456c-9f19-17bbf6365c53",
   "metadata": {},
   "source": [
    "## Let's implement Accuracy "
   ]
  },
  {
   "cell_type": "code",
   "execution_count": 19,
   "id": "aebba078-fcb2-49c4-9ab8-9a4ffb2bd3dc",
   "metadata": {},
   "outputs": [
    {
     "name": "stdout",
     "output_type": "stream",
     "text": [
      "acc: 27.0%\n"
     ]
    }
   ],
   "source": [
    "def accuracy(softmax_output, y_true):\n",
    "    predictions = np.argmax(softmax_output, axis=1)\n",
    "    return np.mean(predictions == y_true)\n",
    "    \n",
    "\n",
    "acc = accuracy(output, y)\n",
    "\n",
    "print(f\"acc: {acc.round(2) * 100}%\")"
   ]
  },
  {
   "cell_type": "markdown",
   "id": "dc26b53c-ba2e-46cb-9c12-9bc40a5cb373",
   "metadata": {},
   "source": [
    "# Gradient Update (Updating weights and Biases) Backpropagation"
   ]
  },
  {
   "cell_type": "markdown",
   "id": "ce635a9e-6eda-453d-b716-59fb275481fc",
   "metadata": {},
   "source": [
    "Let's Start from the start and work our ways to generalization "
   ]
  },
  {
   "cell_type": "markdown",
   "id": "2b889963-3bf9-434b-b950-580973cc7b71",
   "metadata": {},
   "source": [
    "Forward pass "
   ]
  },
  {
   "cell_type": "code",
   "execution_count": 5,
   "id": "63668b6f-24a3-4194-9bdd-12cca644f2d7",
   "metadata": {},
   "outputs": [
    {
     "name": "stdout",
     "output_type": "stream",
     "text": [
      "6.0\n"
     ]
    }
   ],
   "source": [
    "x = [1.0, -2.0, 3.0]\n",
    "w = [-3.0, -1.0, 2.0]\n",
    "b = 1.0 \n",
    "\n",
    "# Multiply imputs and weights \n",
    "xw0 = x[0] * w[0]\n",
    "xw1 = x[1] * w[1]\n",
    "xw2 = x[2] * w[2]\n",
    "\n",
    "# Adding weights and bias \n",
    "z = xw0 + xw1 + xw2 + b\n",
    "\n",
    "# ReLu activation function \n",
    "y = max(z, 0)\n",
    "\n",
    "print(y) "
   ]
  },
  {
   "cell_type": "markdown",
   "id": "89bcb135-f23e-4978-8df0-52147cfe2807",
   "metadata": {},
   "source": [
    "<img src=\"./images/neural-network.png\" width=\"300\" height=\"200\">"
   ]
  },
  {
   "cell_type": "markdown",
   "id": "9a9e08e8-1be9-4e8d-aed3-15f13c1b617a",
   "metadata": {},
   "source": [
    "Backward pass "
   ]
  },
  {
   "cell_type": "code",
   "execution_count": 7,
   "id": "34afadc4-4155-453a-a87e-b1111cf05622",
   "metadata": {},
   "outputs": [
    {
     "name": "stdout",
     "output_type": "stream",
     "text": [
      "drelu_dz: 1.0\n",
      "1.0 1.0 1.0 1.0\n"
     ]
    }
   ],
   "source": [
    "# The dervative from the next layer \n",
    "dvalue = 1.0 \n",
    "\n",
    "# deravative of the ReLu and the chain rule \n",
    "drelu_dz = dvalue * (1. if z > 0 else 0.)\n",
    "print (f\"drelu_dz: {drelu_dz}\")\n",
    "# partial derivatives of the multplication, the chain rule \n",
    "# partial derivative of the sum function is always 1 \n",
    "dsum_dxw0 = 1\n",
    "dsum_dxw1 = 1\n",
    "dsum_dxw2 = 1\n",
    "dsum_db = 1\n",
    "\n",
    "# partial dervative of relu w.r.t the weights [xw0, xw1, xw2] and bias [b]\n",
    "drelu_dxw0 = drelu_dz * dsum_dxw0\n",
    "drelu_dxw1 = drelu_dz * dsum_dxw1\n",
    "drelu_dxw2 = drelu_dz * dsum_dxw2\n",
    "drelu_db = drelu_dz * dsum_db\n",
    "print (drelu_dxw0, drelu_dxw1, drelu_dxw2, drelu_db)"
   ]
  },
  {
   "cell_type": "markdown",
   "id": "917178be-cd8e-4567-89ca-14924f3106d8",
   "metadata": {},
   "source": [
    "Continuing backward, the function that comes before the sum is the multiplication of weights and inputs. The derivative for a product is whatever the input is being multiplied by. Recall:\n",
    "\n",
    "---\n",
    "\n",
    "\n",
    "$$f(x, y) = x \\cdot y \\quad \\rightarrow$$\n",
    "\n",
    "$$\\quad \\frac{\\partial}{\\partial x} f(x, y) = y$$\n",
    "\n",
    "$$\\frac{\\partial}{\\partial y} f(x, y) = x$$\n",
    "\n"
   ]
  },
  {
   "cell_type": "code",
   "execution_count": 8,
   "id": "5f39c336-83b3-40b0-b443-403461c9bc80",
   "metadata": {},
   "outputs": [
    {
     "name": "stdout",
     "output_type": "stream",
     "text": [
      "-3.0 1.0 -1.0 -2.0 2.0 3.0\n"
     ]
    }
   ],
   "source": [
    "# partial derivatives of the multiplication, the chain rule \n",
    "dmul_dx0 = w[ 0 ]\n",
    "dmul_dx1 = w[ 1 ]\n",
    "dmul_dx2 = w[ 2 ]\n",
    "dmul_dw0 = x[ 0 ]\n",
    "dmul_dw1 = x[ 1 ]\n",
    "dmul_dw2 = x[ 2 ]\n",
    "drelu_dx0 = drelu_dxw0 * dmul_dx0\n",
    "drelu_dw0 = drelu_dxw0 * dmul_dw0\n",
    "drelu_dx1 = drelu_dxw1 * dmul_dx1\n",
    "drelu_dw1 = drelu_dxw1 * dmul_dw1\n",
    "drelu_dx2 = drelu_dxw2 * dmul_dx2\n",
    "drelu_dw2 = drelu_dxw2 * dmul_dw2\n",
    "print (drelu_dx0, drelu_dw0, drelu_dx1, drelu_dw1, drelu_dx2, drelu_dw2)"
   ]
  },
  {
   "cell_type": "code",
   "execution_count": 10,
   "id": "31cd58a2-d011-4a01-8954-036760b5a69e",
   "metadata": {},
   "outputs": [
    {
     "name": "stdout",
     "output_type": "stream",
     "text": [
      "updates:\n",
      "Weights: [-3.001, -0.998, 1.997]\n",
      "Bias: 0.999\n"
     ]
    }
   ],
   "source": [
    "dx = [drelu_dx0, drelu_dx1, drelu_dx2] # gradient for inputs \n",
    "dw = [drelu_dw0, drelu_dw1, drelu_dw2]# gradient for weights\n",
    "db = drelu_db # gradient for bias \n",
    "\n",
    "# constant learning rate \n",
    "alpha = 0.001\n",
    "\n",
    "# apply updates \n",
    "w[0] += - alpha * dw[0]\n",
    "w[1] += - alpha * dw[1]\n",
    "w[2] += - alpha * dw[2]\n",
    "b += -alpha * db\n",
    "\n",
    "print(f\"updates:\\nWeights: {w}\\nBias: {b}\")"
   ]
  },
  {
   "cell_type": "markdown",
   "id": "0d433447-3c53-4731-b8b5-f4cb6b7a5a0c",
   "metadata": {},
   "source": [
    "Now, we’ve slightly changed the weights and bias in such a way so as to decrease the output\n",
    "somewhat intelligently. We can see the effects of our tweaks on the output by doing another\n",
    "forward pass:"
   ]
  },
  {
   "cell_type": "code",
   "execution_count": 11,
   "id": "444375d6-d0c3-49c0-a52f-1b6f430a304c",
   "metadata": {},
   "outputs": [
    {
     "name": "stdout",
     "output_type": "stream",
     "text": [
      "5.985\n"
     ]
    }
   ],
   "source": [
    "xw0 = x[ 0 ] * w[ 0 ]\n",
    "xw1 = x[ 1 ] * w[ 1 ]\n",
    "xw2 = x[ 2 ] * w[ 2 ]\n",
    "\n",
    "\n",
    "# Adding\n",
    "z = xw0 + xw1 + xw2 + b\n",
    "# ReLU activation function\n",
    "y = max (z, 0 )\n",
    "print (y)"
   ]
  },
  {
   "cell_type": "markdown",
   "id": "7a59235a-580e-4ef8-aac5-c561e0611797",
   "metadata": {},
   "source": [
    "Successfully decreased the output of the ReLu activation function from 6 to 5.985, now we want to apply this for a layer with multiple neurons "
   ]
  },
  {
   "cell_type": "markdown",
   "id": "03e8a38a-7b23-4faf-8699-180a6d595e76",
   "metadata": {},
   "source": [
    "## Backpropagation for 1 Neuron "
   ]
  },
  {
   "cell_type": "code",
   "execution_count": 22,
   "id": "5a1b27d4-5319-42c0-8781-4d51a37581fe",
   "metadata": {},
   "outputs": [
    {
     "name": "stdout",
     "output_type": "stream",
     "text": [
      "Updated weights:\n",
      " [[ 0.1995  0.5035 -0.2605]\n",
      " [ 0.7799 -0.9201 -0.2901]\n",
      " [-0.5109  0.2471  0.1591]\n",
      " [ 0.9959 -0.5001  0.8659]]\n",
      "Updated biases:\n",
      " [[1.994 2.996 0.494]]\n"
     ]
    }
   ],
   "source": [
    "import numpy as np\n",
    "\n",
    "# Input data (3 samples, 4 features)\n",
    "inputs = np.array([\n",
    "    [1, 2, 3, 2.5],\n",
    "    [2., 5., -1., 2],\n",
    "    [-1.5, 2.7, 3.3, -0.8]\n",
    "])\n",
    "\n",
    "# Weights (4 inputs, 3 neurons)\n",
    "weights = np.array([\n",
    "    [0.2, 0.8, -0.5, 1],\n",
    "    [0.5, -0.91, 0.26, -0.5],\n",
    "    [-0.26, -0.27, 0.17, 0.87]\n",
    "]).T\n",
    "\n",
    "biases = np.array([[2, 3, 0.5]])\n",
    "\n",
    "# Gradients from next layer (3 samples, 3 neurons)\n",
    "dvalues = np.array([\n",
    "    [1., 1., 1.],\n",
    "    [2., 2., 2.],\n",
    "    [3., 3., 3.]\n",
    "])\n",
    "\n",
    "# Forward pass\n",
    "layer_output = np.dot(inputs, weights) + biases  # Shape: (3,3)\n",
    "relu_output = np.maximum(0, layer_output)       # Shape: (3,3)  \n",
    "\n",
    "# Backward pass\n",
    "# ReLU derivative\n",
    "drelu = dvalues.copy()                          # Shape: (3,3)\n",
    "drelu[layer_output <= 0] = 0                    # Zero out gradients where ReLU was 0\n",
    "\n",
    "# Dense layer gradients\n",
    "dinputs = np.dot(drelu, weights.T)              # Shape: (3,4)\n",
    "dweights = np.dot(inputs.T, drelu)              # Shape: (4,3)\n",
    "dbiases = np.sum(drelu, axis=0, keepdims=True)  # Shape: (1,3)\n",
    "\n",
    "# Update parameters\n",
    "alpha = 0.001\n",
    "weights += -alpha * dweights  \n",
    "biases += -alpha * dbiases\n",
    "\n",
    "print(f\"Updated weights:\\n {weights}\")\n",
    "print(f\"Updated biases:\\n {biases}\")"
   ]
  },
  {
   "cell_type": "markdown",
   "id": "c25f1eac-d809-4bea-94df-a7bb211f8a6c",
   "metadata": {},
   "source": [
    "# Dense Layer with Backpropagation"
   ]
  },
  {
   "cell_type": "code",
   "execution_count": 1,
   "id": "d7d0f892-da9a-4ff9-bd42-65ad6c1073c4",
   "metadata": {},
   "outputs": [],
   "source": [
    "import numpy as np"
   ]
  },
  {
   "cell_type": "code",
   "execution_count": 2,
   "id": "5c6b2651-b512-4990-95b0-6171c14e789f",
   "metadata": {},
   "outputs": [],
   "source": [
    "class Layer_Dense:\n",
    "    def __init__(self, inputs, neurons):\n",
    "        self.weights = 0.10 * np.random.rand(inputs, neurons)\n",
    "        self.biases = np.zeros((1, neurons))\n",
    "\n",
    "    def forward(self, inputs):\n",
    "        self.inputs = inputs\n",
    "        self.output = np.dot(inputs, self.weights) + self.biases\n",
    "\n",
    "    def backward(self, dvalues):\n",
    "        # Gradient on parametes \n",
    "        self.dweights = np.dot(self.inputs.T, dvalues)\n",
    "        self.dbiases = np.sum(dvalues, axis=0, keepdims=True)\n",
    "        # Gradient on values \n",
    "        self.dinputs = np.dot(dvalues, self.weights.T)        "
   ]
  },
  {
   "cell_type": "code",
   "execution_count": 3,
   "id": "c9f22338-1279-47fe-97ee-85645207263c",
   "metadata": {},
   "outputs": [],
   "source": [
    "class Activation_ReLu:\n",
    "    def forward(self, inputs):\n",
    "        self.inputs = inputs\n",
    "        self.output = np.maximum(0, inputs)\n",
    "\n",
    "    def backward(self, dvalues):\n",
    "        self.dinputs = dvalues.copy()\n",
    "\n",
    "        # zero gradient where input values were negative \n",
    "        self.dinputs[self.inputs <= 0] = 0\n",
    "        "
   ]
  },
  {
   "cell_type": "markdown",
   "id": "93d1d997-07a3-4917-9a84-027fe78653b2",
   "metadata": {},
   "source": [
    "# Categorical Cross-Entropy Loss derivative code implementaion "
   ]
  },
  {
   "cell_type": "code",
   "execution_count": null,
   "id": "5615006a-ece5-42ea-b210-f0ddbf08239f",
   "metadata": {},
   "outputs": [],
   "source": [
    "class Loss:\n",
    "    def calculate(self, output, y):\n",
    "        sample_losses = self.forward(output, y)\n",
    "        data_loss = np.mean(sample_losses)\n",
    "        return data_loss\n",
    "\n",
    "        \n",
    "class Loss_CrossEntropy(Loss):    \n",
    "    \n",
    "    def forward(self, y_pred, y_true):\n",
    "        samples = len(y_pred)\n",
    "        y_pred_clipped = np.clip(y_pred, 1e-7, 1 - 1e-7)\n",
    "        \n",
    "        if len(y_true.shape) == 1: \n",
    "            correct_confidences = y_pred_clipped[range(samples), y_true]\n",
    "        elif len(y_true.shape) == 2:  \n",
    "            correct_confidences = np.sum(y_pred_clipped * y_true, axis=1)\n",
    "        else:\n",
    "            raise ValueError(\"y_true has invalid shape\")\n",
    "\n",
    "        negative_log_likelihoods = -np.log(correct_confidences)\n",
    "        return negative_log_likelihoods"
   ]
  },
  {
   "cell_type": "code",
   "execution_count": 5,
   "id": "84cf7fdc-c2da-4c97-b0f2-2ef036209054",
   "metadata": {},
   "outputs": [],
   "source": [
    "class Loss:\n",
    "    def calculate(self, output, y):\n",
    "        sample_losses = self.forward(output, y)\n",
    "        data_loss = np.mean(sample_losses)\n",
    "        return data_loss\n",
    "\n",
    "        \n",
    "class Loss_CrossEntropy(Loss):    \n",
    "\n",
    "    def foraward(self, y_pred, y_true):\n",
    "        samples = len(y_pred)\n",
    "        y_pred_clipped = np.clip(y_pred, 1e-7, 1 - 1e-7)\n",
    "        \n",
    "        if len(y_true.shape) == 1:\n",
    "            correct_confidences = y_pred_clipped[range(sameples), y_true]\n",
    "        \n",
    "        elif len(y_true.shape) == 2:\n",
    "            correct_confidences = np.sum(y_pred_clipped * y_true, axis=1)\n",
    "\n",
    "        else: \n",
    "            raise ValueError(\"y_true has invalid shape\")\n",
    "\n",
    "        return -np.log(correct_confidences)\n",
    "\n",
    "    # Backward pass\n",
    "    def backward ( self , dvalues , y_true ):\n",
    "\n",
    "        labels = len(dvalues[0])\n",
    "        if len(y_true.shape) == 1:\n",
    "            y_true = np.eye(labels)[y_true]\n",
    "        # calc gradient\n",
    "        self.dinputs = -y_true / dvalues\n",
    "        # Normalize    \n",
    "        self.dinputs =  self.dinputs / len(dvalues)"
   ]
  },
  {
   "cell_type": "code",
   "execution_count": 6,
   "id": "02c7b0e6-e8af-40dd-a19f-fead2bfce53d",
   "metadata": {},
   "outputs": [],
   "source": [
    "class Activation_Softmax_education:\n",
    "    # Backward pass\n",
    "    def backward(self, dvalues):\n",
    "        # Create uninitialized array\n",
    "        self.dinputs = np.empty_like(dvalues)\n",
    "        # Enumerate outputs and gradients\n",
    "        for index, (single_output, single_dvalues) in enumerate(zip(self.output, dvalues)):\n",
    "            # Flatten output array\n",
    "            single_output = single_output.reshape(-1, 1)\n",
    "            # Calculate Jacobian matrix of the output\n",
    "            jacobian_matrix = np.diagflat(single_output) - np.dot(single_output, single_output.T)\n",
    "            # Calculate sample-wise gradient and add it to the array of sample gradients\n",
    "            self.dinputs[index] = np.dot(jacobian_matrix, single_dvalues)"
   ]
  },
  {
   "cell_type": "markdown",
   "id": "d63c4d52-1d9a-4b4e-999e-46abdda5d15b",
   "metadata": {},
   "source": [
    "### Softmax Vectorized version"
   ]
  },
  {
   "cell_type": "code",
   "execution_count": 7,
   "id": "bd6ba939-5e71-4a08-8421-74c46484ed4b",
   "metadata": {},
   "outputs": [],
   "source": [
    "class Activation_Softmax:\n",
    "    def forward(self, inputs):\n",
    "        # Subtract max for numerical stability\n",
    "        exp_values = np.exp(inputs - np.max(inputs, axis=1, keepdims=True))\n",
    "        self.output = exp_values / np.sum(exp_values, axis=1, keepdims=True)\n",
    "        return self.output\n",
    "\n",
    "    def backward(self, dvalues):\n",
    "        self.dinputs = self.output * (dvalues - np.sum(dvalues * self.output, axis=1, keepdims=True))"
   ]
  },
  {
   "cell_type": "markdown",
   "id": "bc61e09c-91c3-43e2-9e16-0e1f839d39be",
   "metadata": {},
   "source": [
    "# Cross Entropy with Softmax Activation function Backpropagation"
   ]
  },
  {
   "cell_type": "code",
   "execution_count": 8,
   "id": "b15f4a5e-1cda-47b1-9f44-169ad289b9f2",
   "metadata": {},
   "outputs": [],
   "source": [
    "class Activation_Softmax_Loss_CrossEntropy:\n",
    "    def __init__(self):\n",
    "        self.loss = Loss_CrossEntropy()\n",
    "        self.activation = Activation_Softmax()\n",
    "\n",
    "    def forward(self, inputs, y_true):\n",
    "        self.output = self.activation.forward(inputs)\n",
    "        return self.loss.calculate(self.output, y_true)\n",
    "\n",
    "    def backward(self, dvalues, y_true):\n",
    "        samples = len(dvalues)\n",
    "\n",
    "        if len(y_true.shape) == 2:\n",
    "            y_true = np.argmax(y_true, axis=1)\n",
    "\n",
    "        self.dinputs = dvalues.copy()\n",
    "        self.dinputs[range(samples), y_true] -=1\n",
    "        self.dinputs = self.dinputs / samples"
   ]
  },
  {
   "cell_type": "code",
   "execution_count": null,
   "id": "7c72a155-17aa-4a84-9f05-738750a9e85e",
   "metadata": {},
   "outputs": [],
   "source": []
  },
  {
   "cell_type": "code",
   "execution_count": null,
   "id": "0297f172-d38b-4e8e-984d-6516f9822fd6",
   "metadata": {},
   "outputs": [],
   "source": []
  },
  {
   "cell_type": "code",
   "execution_count": null,
   "id": "10cc8c68-eaa3-4fff-b0ca-7046c74a0d17",
   "metadata": {},
   "outputs": [],
   "source": []
  },
  {
   "cell_type": "code",
   "execution_count": null,
   "id": "83339c12-e088-4a53-a44b-4635e9ceb7f4",
   "metadata": {},
   "outputs": [],
   "source": []
  },
  {
   "cell_type": "code",
   "execution_count": null,
   "id": "21a8dd22-53ac-488a-a972-2baf48a971e8",
   "metadata": {},
   "outputs": [],
   "source": []
  }
 ],
 "metadata": {
  "kernelspec": {
   "display_name": "Python 3 (ipykernel)",
   "language": "python",
   "name": "python3"
  },
  "language_info": {
   "codemirror_mode": {
    "name": "ipython",
    "version": 3
   },
   "file_extension": ".py",
   "mimetype": "text/x-python",
   "name": "python",
   "nbconvert_exporter": "python",
   "pygments_lexer": "ipython3",
   "version": "3.10.12"
  }
 },
 "nbformat": 4,
 "nbformat_minor": 5
}
